{
 "cells": [
  {
   "cell_type": "markdown",
   "metadata": {
    "vscode": {
     "languageId": "plaintext"
    }
   },
   "source": [
    "Copyright **`(c)`** 2024 Giovanni Squillero `<giovanni.squillero@polito.it>`  \n",
    "[`https://github.com/squillero/computational-intelligence`](https://github.com/squillero/computational-intelligence)  \n",
    "Free under certain conditions — see the [`license`](https://github.com/squillero/computational-intelligence/blob/master/LICENSE.md) for details.  "
   ]
  },
  {
   "cell_type": "code",
   "execution_count": 1,
   "metadata": {},
   "outputs": [],
   "source": [
    "from collections import namedtuple,deque\n",
    "from random import choice\n",
    "from tqdm.auto import tqdm\n",
    "from heapq import heappop, heappush\n",
    "import numpy as np"
   ]
  },
  {
   "cell_type": "code",
   "execution_count": 2,
   "metadata": {},
   "outputs": [],
   "source": [
    "PUZZLE_DIM = 4\n",
    "action = namedtuple('Action', ['pos1', 'pos2'])"
   ]
  },
  {
   "cell_type": "markdown",
   "metadata": {},
   "source": [
    "# Goal state"
   ]
  },
  {
   "cell_type": "code",
   "execution_count": 3,
   "metadata": {},
   "outputs": [
    {
     "data": {
      "text/plain": [
       "array([[ 1,  2,  3,  4],\n",
       "       [ 5,  6,  7,  8],\n",
       "       [ 9, 10, 11, 12],\n",
       "       [13, 14, 15,  0]])"
      ]
     },
     "execution_count": 3,
     "metadata": {},
     "output_type": "execute_result"
    }
   ],
   "source": [
    "FINAL_STATE = np.array([i for i in range(1, PUZZLE_DIM**2)] + [0]).reshape((PUZZLE_DIM, PUZZLE_DIM))\n",
    "FINAL_STATE"
   ]
  },
  {
   "cell_type": "code",
   "execution_count": 4,
   "metadata": {},
   "outputs": [],
   "source": [
    "def available_actions(state: np.ndarray) -> list['Action']:\n",
    "    x, y = [int(_[0]) for _ in np.where(state == 0)]\n",
    "    actions = list()\n",
    "    if x > 0:\n",
    "        actions.append(action((x, y), (x - 1, y)))\n",
    "    if x < PUZZLE_DIM - 1:\n",
    "        actions.append(action((x, y), (x + 1, y)))\n",
    "    if y > 0:\n",
    "        actions.append(action((x, y), (x, y - 1)))\n",
    "    if y < PUZZLE_DIM - 1:\n",
    "        actions.append(action((x, y), (x, y + 1)))\n",
    "    return actions\n",
    "\n",
    "\n",
    "\n",
    "def do_action(state: np.ndarray, action: 'Action') -> np.ndarray:\n",
    "    new_state = state.copy()\n",
    "    new_state[action.pos1], new_state[action.pos2] = new_state[action.pos2], new_state[action.pos1]\n",
    "    return new_state"
   ]
  },
  {
   "cell_type": "markdown",
   "metadata": {},
   "source": [
    "# BREADTH-FIRST SEARCH (BFS)"
   ]
  },
  {
   "cell_type": "code",
   "execution_count": 5,
   "metadata": {},
   "outputs": [],
   "source": [
    "def bfs(initial_state: np.ndarray) -> dict:\n",
    "    visited = set()\n",
    "    queue = deque([(initial_state, [])])\n",
    "    steps=0\n",
    "\n",
    "    while queue:\n",
    "        current_state, path = queue.popleft()\n",
    "        state_tuple = tuple(map(tuple, current_state))  #converts the state to something hashable\n",
    "        \n",
    "        if state_tuple in visited:\n",
    "            continue\n",
    "        visited.add(state_tuple)\n",
    "        steps+=1\n",
    "\n",
    "        # Checks if we reached the goal state\n",
    "        if np.array_equal(current_state, FINAL_STATE):\n",
    "            print(\"\\nFinal state:\")\n",
    "            print(current_state)\n",
    "            return {\n",
    "                'solution': path,\n",
    "                'quality': len(path),  # number of actions in the solutions\n",
    "                'cost': steps,         # total number of actions evaluated\n",
    "                'efficiency': len(path) / steps if steps > 0 else 0  # quality vs cost\n",
    "            }\n",
    "        \n",
    "        # Generates new moves\n",
    "        for act in available_actions(current_state):\n",
    "            new_state = do_action(current_state, act)\n",
    "            queue.append((new_state, path + [act]))  # adds the new state to the explored states\n",
    "\n",
    "    return {\n",
    "        'solution': None,\n",
    "        'quality': None,\n",
    "        'cost': steps,\n",
    "        'efficiency': 0\n",
    "    }"
   ]
  },
  {
   "cell_type": "markdown",
   "metadata": {},
   "source": [
    "# A* With Manhattan distance as Heuristic"
   ]
  },
  {
   "cell_type": "code",
   "execution_count": 6,
   "metadata": {},
   "outputs": [],
   "source": [
    "def manhattan_distance(state: np.ndarray) -> int:\n",
    "    total_distance = 0\n",
    "    for x in range(PUZZLE_DIM):\n",
    "        for y in range(PUZZLE_DIM):\n",
    "            value = state[x, y]\n",
    "            if value == 0:\n",
    "                continue\n",
    "            target_x, target_y = divmod(value - 1, PUZZLE_DIM)\n",
    "            total_distance += abs(x - target_x) + abs(y - target_y)\n",
    "    return total_distance\n",
    "\n",
    "def astar(initial_state: np.ndarray) -> dict:\n",
    "    visited = set()\n",
    "    priority_queue = []\n",
    "    \n",
    "\n",
    "    initial_state_tuple = tuple(map(tuple, initial_state))\n",
    "    heappush(priority_queue, (0, 0, initial_state_tuple, []))\n",
    "    steps = 0\n",
    "    \n",
    "    while priority_queue:\n",
    "        _, g, current_state_tuple, path = heappop(priority_queue)\n",
    "        current_state = np.array(current_state_tuple)  # Converti indietro in NumPy array\n",
    "        \n",
    "        if current_state_tuple in visited:\n",
    "            continue\n",
    "        visited.add(current_state_tuple)\n",
    "        steps += 1\n",
    "\n",
    "        # prints the actual state every milion steps just to see what's appening\n",
    "        if steps % 1000000 == 0:\n",
    "            print(f\"\\nExplored states: {steps}\")\n",
    "            print(\"Current state:\")\n",
    "            print(current_state)\n",
    "        \n",
    "        # Checks if we reached the goal state\n",
    "        if np.array_equal(current_state, FINAL_STATE):\n",
    "            print(\"\\nFinal state:\")\n",
    "            print(current_state)\n",
    "            return {\n",
    "                'solution': path,\n",
    "                'quality': len(path),  # number of actions in the solutions\n",
    "                'cost': steps,         # total number of actions evaluated\n",
    "                'efficiency': len(path) / steps if steps > 0 else 0  # Quality/Cost\n",
    "            }\n",
    "        \n",
    "        for act in available_actions(current_state):\n",
    "            new_state = do_action(current_state, act)\n",
    "            new_state_tuple = tuple(map(tuple, new_state))\n",
    "            if new_state_tuple in visited:\n",
    "                continue\n",
    "            new_path = path + [act]\n",
    "            h = manhattan_distance(new_state)\n",
    "            f = g + 1 + h\n",
    "            heappush(priority_queue, (f, g + 1, new_state_tuple, new_path))\n",
    "\n",
    "    return {\n",
    "        'solution': None,\n",
    "        'quality': None,\n",
    "        'cost': steps,\n",
    "        'efficiency': 0\n",
    "    }"
   ]
  },
  {
   "cell_type": "code",
   "execution_count": 7,
   "metadata": {},
   "outputs": [
    {
     "data": {
      "application/vnd.jupyter.widget-view+json": {
       "model_id": "8352a19a8a6947ff9f37003404cbed10",
       "version_major": 2,
       "version_minor": 0
      },
      "text/plain": [
       "Randomizing:   0%|          | 0/100000 [00:00<?, ?it/s]"
      ]
     },
     "metadata": {},
     "output_type": "display_data"
    },
    {
     "name": "stdout",
     "output_type": "stream",
     "text": [
      "Initial state:\n",
      "[[ 8  5  9  4]\n",
      " [ 1 10  2 14]\n",
      " [ 7 15 11  6]\n",
      " [13  3 12  0]]\n"
     ]
    }
   ],
   "source": [
    "RANDOMIZE_STEPS = 100_000\n",
    "state = np.array([i for i in range(1, PUZZLE_DIM**2)] + [0]).reshape((PUZZLE_DIM, PUZZLE_DIM))\n",
    "for r in tqdm(range(RANDOMIZE_STEPS), desc='Randomizing'):\n",
    "    state = do_action(state, choice(available_actions(state)))\n",
    "\n",
    "print(\"Initial state:\")\n",
    "print(state)"
   ]
  },
  {
   "cell_type": "code",
   "execution_count": 8,
   "metadata": {},
   "outputs": [
    {
     "name": "stdout",
     "output_type": "stream",
     "text": [
      "\n",
      "Explored states: 1000000\n",
      "Current state:\n",
      "[[ 1  2 14  4]\n",
      " [ 7  8  0  6]\n",
      " [13  9 10 11]\n",
      " [15  5  3 12]]\n",
      "\n",
      "Final state:\n",
      "[[ 1  2  3  4]\n",
      " [ 5  6  7  8]\n",
      " [ 9 10 11 12]\n",
      " [13 14 15  0]]\n",
      "Quality: 46\n",
      "Cost: 1937816\n",
      "Efficiency: 0.0000\n"
     ]
    }
   ],
   "source": [
    "# use the commented line to run the bfs algorithm, solution in feasible time only for 3x3 puzzle\n",
    "#solution = bfs(state)\n",
    "solution = astar(state)\n",
    "\n",
    "if solution['solution']:\n",
    "    print(f\"Quality: {solution['quality']}\")\n",
    "    print(f\"Cost: {solution['cost']}\")\n",
    "    print(f\"Efficiency: {solution['efficiency']:.4f}\")\n",
    "else:\n",
    "    print(\"\\nNo solution found\")"
   ]
  }
 ],
 "metadata": {
  "kernelspec": {
   "display_name": "ci-WEKR9SVn-py3.12",
   "language": "python",
   "name": "python3"
  },
  "language_info": {
   "codemirror_mode": {
    "name": "ipython",
    "version": 3
   },
   "file_extension": ".py",
   "mimetype": "text/x-python",
   "name": "python",
   "nbconvert_exporter": "python",
   "pygments_lexer": "ipython3",
   "version": "3.12.6"
  }
 },
 "nbformat": 4,
 "nbformat_minor": 2
}
